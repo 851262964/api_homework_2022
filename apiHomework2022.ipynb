{
 "cells": [
  {
   "cell_type": "code",
   "execution_count": 1,
   "id": "ee995320",
   "metadata": {},
   "outputs": [],
   "source": [
    "# API Homework\n",
    "\n",
    "# Stock and Digital Currency(DC) Evaluation\n",
    "\n",
    "#Time Value Analysis via Monte Carlo Simulation (Comparative)"
   ]
  },
  {
   "cell_type": "code",
   "execution_count": 2,
   "id": "487303ad-8a60-47ae-a85e-050a9a66f8d3",
   "metadata": {},
   "outputs": [],
   "source": [
    "# Initial imports\n",
    "import os\n",
    "import requests\n",
    "import pandas as pd\n",
    "from dotenv import load_dotenv\n",
    "import alpaca_trade_api as tradeapi\n",
    "from MCForecastTools import MCSimulation\n",
    "\n",
    "%matplotlib inline\n",
    "\n",
    "\n"
   ]
  },
  {
   "cell_type": "code",
   "execution_count": 3,
   "id": "e76c1a55",
   "metadata": {},
   "outputs": [
    {
     "data": {
      "text/plain": [
       "True"
      ]
     },
     "execution_count": 3,
     "metadata": {},
     "output_type": "execute_result"
    }
   ],
   "source": [
    "# Load .env enviroment variables\n",
    "load_dotenv()"
   ]
  },
  {
   "cell_type": "code",
   "execution_count": 4,
   "id": "97b649fb",
   "metadata": {},
   "outputs": [],
   "source": [
    "# Collect Crypto Prices Using the requests Library\n",
    "\n",
    "# Set current amount of crypto assets\n",
    "\n",
    "my_btc = 1.2\n",
    "\n",
    "my_eth = 5.3"
   ]
  },
  {
   "cell_type": "code",
   "execution_count": 5,
   "id": "6c5af355",
   "metadata": {},
   "outputs": [
    {
     "data": {
      "text/plain": [
       "1.2"
      ]
     },
     "execution_count": 5,
     "metadata": {},
     "output_type": "execute_result"
    }
   ],
   "source": [
    "#calling the value of btc\n",
    "\n",
    "my_btc\n"
   ]
  },
  {
   "cell_type": "code",
   "execution_count": 6,
   "id": "36be18b2",
   "metadata": {},
   "outputs": [
    {
     "data": {
      "text/plain": [
       "5.3"
      ]
     },
     "execution_count": 6,
     "metadata": {},
     "output_type": "execute_result"
    }
   ],
   "source": [
    "#calling the value of eth\n",
    "\n",
    "my_eth "
   ]
  },
  {
   "cell_type": "code",
   "execution_count": 7,
   "id": "48e6355f",
   "metadata": {},
   "outputs": [],
   "source": [
    "# Crypto API URLs\n",
    "btc_url = \"https://api.alternative.me/v2/ticker/Bitcoin/?convert=CAD\"\n",
    "eth_url = \"https://api.alternative.me/v2/ticker/Ethereum/?convert=CAD\""
   ]
  },
  {
   "cell_type": "code",
   "execution_count": 8,
   "id": "3f5eb101",
   "metadata": {},
   "outputs": [],
   "source": [
    "import requests\n",
    "\n",
    "import json"
   ]
  },
  {
   "cell_type": "code",
   "execution_count": 9,
   "id": "a86d2723",
   "metadata": {},
   "outputs": [
    {
     "name": "stdout",
     "output_type": "stream",
     "text": [
      "Current BTC closing price in CAD: $52925.10\n",
      "Current ETH closing price in CAD: $4019.36\n"
     ]
    }
   ],
   "source": [
    "#Use the requests library to fetch the current price in Canadian dollars (CAD) of bitcoin (BTC) and ethereum (ETH) \n",
    "\n",
    "\n",
    "# Getting current BTC price\n",
    "btc_response_data = requests.get(btc_url).json()\n",
    "\n",
    "# Current BTC price in Canadian Dollars\n",
    "btc_cad = btc_response_data[\"data\"][\"1\"][\"quotes\"][\"CAD\"][\"price\"]\n",
    "\n",
    "\n",
    "# Getting current ETH price\n",
    "eth_response_data = requests.get(eth_url).json()\n",
    "\n",
    "# Current ETH price in Canadian Dollars\n",
    "eth_cad = eth_response_data[\"data\"][\"1027\"][\"quotes\"][\"CAD\"][\"price\"]\n",
    "\n",
    "\n",
    "print(f\"Current BTC closing price in CAD: ${btc_cad:0.2f}\")\n",
    "\n",
    "print(f\"Current ETH closing price in CAD: ${eth_cad:0.2f}\")\n"
   ]
  },
  {
   "cell_type": "code",
   "execution_count": 10,
   "id": "ef38da1b",
   "metadata": {},
   "outputs": [],
   "source": [
    "#assigning value CMP(Current Market Price) * UH (Units Held)\n",
    "\n",
    "my_btc_value = 53593.23*1.2\n",
    "\n",
    "my_eth_value = 4078.48*5.3"
   ]
  },
  {
   "cell_type": "code",
   "execution_count": 11,
   "id": "778f052d",
   "metadata": {},
   "outputs": [
    {
     "name": "stdout",
     "output_type": "stream",
     "text": [
      "The current value of your 1.2 BTC is $64311.88\n",
      "The current value of your 5.3 ETH is $21615.94\n"
     ]
    }
   ],
   "source": [
    "# Print current crypto wallet balance\n",
    "print(f\"The current value of your {my_btc} BTC is ${my_btc_value:0.2f}\")\n",
    "print(f\"The current value of your {my_eth} ETH is ${my_eth_value:0.2f}\")"
   ]
  },
  {
   "cell_type": "code",
   "execution_count": 12,
   "id": "008e4134",
   "metadata": {},
   "outputs": [
    {
     "name": "stdout",
     "output_type": "stream",
     "text": [
      "Total value of Digital Currency Holdings: $ 85927.82\n"
     ]
    }
   ],
   "source": [
    "#Total Value of Digitial Currency holdings\n",
    "\n",
    "total_value_dc_holdings = my_btc_value + my_eth_value\n",
    "print(f\"Total value of Digital Currency Holdings: $ {my_btc_value + my_eth_value}\") "
   ]
  },
  {
   "cell_type": "code",
   "execution_count": null,
   "id": "97bcc1a1",
   "metadata": {},
   "outputs": [],
   "source": []
  },
  {
   "cell_type": "code",
   "execution_count": 13,
   "id": "f1ad063b",
   "metadata": {},
   "outputs": [],
   "source": [
    "# Second Part"
   ]
  },
  {
   "cell_type": "code",
   "execution_count": 14,
   "id": "a2f5f793",
   "metadata": {},
   "outputs": [],
   "source": [
    "#Collect Investments Data Using Alpaca: SPY (stocks) and AGG (bonds)"
   ]
  },
  {
   "cell_type": "code",
   "execution_count": 15,
   "id": "2ad26a8d",
   "metadata": {},
   "outputs": [
    {
     "data": {
      "text/html": [
       "<div>\n",
       "<style scoped>\n",
       "    .dataframe tbody tr th:only-of-type {\n",
       "        vertical-align: middle;\n",
       "    }\n",
       "\n",
       "    .dataframe tbody tr th {\n",
       "        vertical-align: top;\n",
       "    }\n",
       "\n",
       "    .dataframe thead th {\n",
       "        text-align: right;\n",
       "    }\n",
       "</style>\n",
       "<table border=\"1\" class=\"dataframe\">\n",
       "  <thead>\n",
       "    <tr style=\"text-align: right;\">\n",
       "      <th></th>\n",
       "      <th>shares</th>\n",
       "    </tr>\n",
       "  </thead>\n",
       "  <tbody>\n",
       "    <tr>\n",
       "      <th>AGG</th>\n",
       "      <td>200</td>\n",
       "    </tr>\n",
       "    <tr>\n",
       "      <th>SPY</th>\n",
       "      <td>50</td>\n",
       "    </tr>\n",
       "  </tbody>\n",
       "</table>\n",
       "</div>"
      ],
      "text/plain": [
       "     shares\n",
       "AGG     200\n",
       "SPY      50"
      ]
     },
     "execution_count": 15,
     "metadata": {},
     "output_type": "execute_result"
    }
   ],
   "source": [
    "# Set current amount of shares\n",
    "my_agg = 200\n",
    "my_spy = 50\n",
    "\n",
    " # Set current amount of shares data\n",
    "shares_data = {\n",
    "    \"shares\": [200, 50]\n",
    "}\n",
    "\n",
    "# Set the tickers\n",
    "tickers = [\"AGG\", \"SPY\"]\n",
    "\n",
    "# Create the shares DataFrame\n",
    "df_shares = pd.DataFrame(shares_data, index=tickers)\n",
    "\n",
    "# Display shares data\n",
    "df_shares"
   ]
  },
  {
   "cell_type": "code",
   "execution_count": 16,
   "id": "f3330ad8",
   "metadata": {},
   "outputs": [
    {
     "data": {
      "text/plain": [
       "True"
      ]
     },
     "execution_count": 16,
     "metadata": {},
     "output_type": "execute_result"
    }
   ],
   "source": [
    "# Load .env environment variables\n",
    "load_dotenv()"
   ]
  },
  {
   "cell_type": "code",
   "execution_count": 17,
   "id": "0d10727b",
   "metadata": {},
   "outputs": [],
   "source": [
    "import requests\n",
    "\n",
    "import json"
   ]
  },
  {
   "cell_type": "code",
   "execution_count": 18,
   "id": "d81f50c1",
   "metadata": {},
   "outputs": [],
   "source": [
    "# Format current date as ISO format\n",
    "today = pd.Timestamp(\"2020-07-14\", tz=\"America/New_York\").isoformat()"
   ]
  },
  {
   "cell_type": "code",
   "execution_count": 19,
   "id": "723669b3",
   "metadata": {},
   "outputs": [],
   "source": [
    "# Set timeframe to one day (\"1Day\") for the Alpaca API\n",
    "timeframe = \"1Day\""
   ]
  },
  {
   "cell_type": "code",
   "execution_count": 20,
   "id": "10feba27",
   "metadata": {},
   "outputs": [
    {
     "name": "stdout",
     "output_type": "stream",
     "text": [
      "Alpaca Key type: <class 'str'>\n",
      "Alpaca Secret Key type: <class 'str'>\n"
     ]
    }
   ],
   "source": [
    " # Set Alpaca API key and secret\n",
    "alpaca_akey = os.getenv(\"alpaca_akey\")\n",
    "alpaca_skey = os.getenv(\"alpaca_skey\")\n",
    "\n",
    "\n",
    "# Verify that Alpaca key and secret were correctly loaded\n",
    "print(f\"Alpaca Key type: {type(alpaca_akey)}\")\n",
    "print(f\"Alpaca Secret Key type: {type(alpaca_skey)}\")\n",
    "\n",
    "# Create the Alpaca API object\n",
    "\n",
    "alpaca = tradeapi.REST(\n",
    "    alpaca_akey,\n",
    "    alpaca_skey,\n",
    "    api_version=\"v2\")"
   ]
  },
  {
   "cell_type": "code",
   "execution_count": 21,
   "id": "480f0259",
   "metadata": {},
   "outputs": [],
   "source": [
    "# Format current date as ISO format\n",
    "today = pd.Timestamp(\"2022-04-08\", tz=\"America/New_York\").isoformat()\n",
    "\n",
    "# Set the tickers\n",
    "tickers = [\"AGG\", \"SPY\"]\n",
    "\n",
    "# Set timeframe to \"1Day\" for Alpaca API\n",
    "timeframe = \"1Day\"\n"
   ]
  },
  {
   "cell_type": "code",
   "execution_count": 22,
   "id": "3e18970b",
   "metadata": {},
   "outputs": [
    {
     "data": {
      "text/html": [
       "<div>\n",
       "<style scoped>\n",
       "    .dataframe tbody tr th:only-of-type {\n",
       "        vertical-align: middle;\n",
       "    }\n",
       "\n",
       "    .dataframe tbody tr th {\n",
       "        vertical-align: top;\n",
       "    }\n",
       "\n",
       "    .dataframe thead tr th {\n",
       "        text-align: left;\n",
       "    }\n",
       "\n",
       "    .dataframe thead tr:last-of-type th {\n",
       "        text-align: right;\n",
       "    }\n",
       "</style>\n",
       "<table border=\"1\" class=\"dataframe\">\n",
       "  <thead>\n",
       "    <tr>\n",
       "      <th></th>\n",
       "      <th colspan=\"7\" halign=\"left\">AGG</th>\n",
       "      <th colspan=\"7\" halign=\"left\">SPY</th>\n",
       "    </tr>\n",
       "    <tr>\n",
       "      <th></th>\n",
       "      <th>open</th>\n",
       "      <th>high</th>\n",
       "      <th>low</th>\n",
       "      <th>close</th>\n",
       "      <th>volume</th>\n",
       "      <th>trade_count</th>\n",
       "      <th>vwap</th>\n",
       "      <th>open</th>\n",
       "      <th>high</th>\n",
       "      <th>low</th>\n",
       "      <th>close</th>\n",
       "      <th>volume</th>\n",
       "      <th>trade_count</th>\n",
       "      <th>vwap</th>\n",
       "    </tr>\n",
       "    <tr>\n",
       "      <th>timestamp</th>\n",
       "      <th></th>\n",
       "      <th></th>\n",
       "      <th></th>\n",
       "      <th></th>\n",
       "      <th></th>\n",
       "      <th></th>\n",
       "      <th></th>\n",
       "      <th></th>\n",
       "      <th></th>\n",
       "      <th></th>\n",
       "      <th></th>\n",
       "      <th></th>\n",
       "      <th></th>\n",
       "      <th></th>\n",
       "    </tr>\n",
       "  </thead>\n",
       "  <tbody>\n",
       "    <tr>\n",
       "      <th>2022-04-08 04:00:00+00:00</th>\n",
       "      <td>104.82</td>\n",
       "      <td>105.01</td>\n",
       "      <td>104.615</td>\n",
       "      <td>104.73</td>\n",
       "      <td>6501822</td>\n",
       "      <td>24900</td>\n",
       "      <td>104.804999</td>\n",
       "      <td>448.04</td>\n",
       "      <td>450.63</td>\n",
       "      <td>445.94</td>\n",
       "      <td>447.57</td>\n",
       "      <td>79148376</td>\n",
       "      <td>573491</td>\n",
       "      <td>448.250805</td>\n",
       "    </tr>\n",
       "  </tbody>\n",
       "</table>\n",
       "</div>"
      ],
      "text/plain": [
       "                              AGG                                    \\\n",
       "                             open    high      low   close   volume   \n",
       "timestamp                                                             \n",
       "2022-04-08 04:00:00+00:00  104.82  105.01  104.615  104.73  6501822   \n",
       "\n",
       "                                                      SPY                  \\\n",
       "                          trade_count        vwap    open    high     low   \n",
       "timestamp                                                                   \n",
       "2022-04-08 04:00:00+00:00       24900  104.804999  448.04  450.63  445.94   \n",
       "\n",
       "                                                                     \n",
       "                            close    volume trade_count        vwap  \n",
       "timestamp                                                            \n",
       "2022-04-08 04:00:00+00:00  447.57  79148376      573491  448.250805  "
      ]
     },
     "execution_count": 22,
     "metadata": {},
     "output_type": "execute_result"
    }
   ],
   "source": [
    " # Get current price data for AGG and SPY\n",
    "df_portfolio = alpaca.get_bars(\n",
    "    tickers,\n",
    "    timeframe,\n",
    "    start = today,\n",
    "    end = today\n",
    ").df\n",
    "\n",
    "# Reorganize the DataFrame\n",
    "\n",
    "# Separate ticker data\n",
    "\n",
    "AGG = df_portfolio[df_portfolio['symbol']=='AGG'].drop('symbol', axis=1)\n",
    "\n",
    "SPY = df_portfolio[df_portfolio['symbol']=='SPY'].drop('symbol', axis=1)\n",
    "\n",
    "# Concatenate the ticker DataFrames\n",
    "df_portfolio = pd.concat([AGG, SPY],axis=1, keys=['AGG','SPY'])\n",
    "\n",
    "# Display sample data\n",
    "df_portfolio"
   ]
  },
  {
   "cell_type": "code",
   "execution_count": 23,
   "id": "ce115bb3",
   "metadata": {},
   "outputs": [
    {
     "name": "stdout",
     "output_type": "stream",
     "text": [
      "Current AGG closing price: $104.73\n",
      "Current SPY closing price: $447.57\n"
     ]
    }
   ],
   "source": [
    "# Pick AGG and SPY close prices\n",
    "\n",
    "# Get the current closing prices from the DataFrame\n",
    "\n",
    "agg_close_price = float(df_portfolio[\"AGG\"][\"close\"])\n",
    "spy_close_price = float(df_portfolio[\"SPY\"][\"close\"])\n",
    "\n",
    "# Print AGG and SPY close prices\n",
    "print(f\"Current AGG closing price: ${agg_close_price}\")\n",
    "print(f\"Current SPY closing price: ${spy_close_price}\")"
   ]
  },
  {
   "cell_type": "code",
   "execution_count": 24,
   "id": "843ecca8",
   "metadata": {},
   "outputs": [
    {
     "name": "stdout",
     "output_type": "stream",
     "text": [
      "The current value of the 200 AGG shares is $20946.00\n",
      "The current value of the 50 SPY shares is $22378.50\n",
      "The current total value of your(the) stock portfolio is $43324.5\n"
     ]
    }
   ],
   "source": [
    "# Compute the current value in dollars of the stock portfolio\n",
    "agg_value = agg_close_price * df_shares.loc[\"AGG\"][\"shares\"]\n",
    "spy_value = spy_close_price * df_shares.loc[\"SPY\"][\"shares\"]\n",
    "total_portfolio_value = agg_value + spy_value\n",
    "\n",
    "# Print the current value of the stocks portfolio\n",
    "print(f\"The current value of the {df_shares.loc['AGG']['shares']} AGG shares is ${agg_value:0.2f}\")\n",
    "print(f\"The current value of the {df_shares.loc['SPY']['shares']} SPY shares is ${spy_value:0.2f}\")\n",
    "print(f\"The current total value of your(the) stock portfolio is ${agg_value + spy_value}\")\n"
   ]
  },
  {
   "cell_type": "code",
   "execution_count": 25,
   "id": "7f665414-3fe0-4886-b935-a66619984b0f",
   "metadata": {},
   "outputs": [
    {
     "data": {
      "text/html": [
       "<div>\n",
       "<style scoped>\n",
       "    .dataframe tbody tr th:only-of-type {\n",
       "        vertical-align: middle;\n",
       "    }\n",
       "\n",
       "    .dataframe tbody tr th {\n",
       "        vertical-align: top;\n",
       "    }\n",
       "\n",
       "    .dataframe thead th {\n",
       "        text-align: right;\n",
       "    }\n",
       "</style>\n",
       "<table border=\"1\" class=\"dataframe\">\n",
       "  <thead>\n",
       "    <tr style=\"text-align: right;\">\n",
       "      <th></th>\n",
       "      <th>AMOUNT</th>\n",
       "    </tr>\n",
       "  </thead>\n",
       "  <tbody>\n",
       "    <tr>\n",
       "      <th>total_value_dc_holdings $</th>\n",
       "      <td>85927.82</td>\n",
       "    </tr>\n",
       "    <tr>\n",
       "      <th>total_stock_portfolio_value $</th>\n",
       "      <td>43324.50</td>\n",
       "    </tr>\n",
       "  </tbody>\n",
       "</table>\n",
       "</div>"
      ],
      "text/plain": [
       "                                 AMOUNT\n",
       "total_value_dc_holdings $      85927.82\n",
       "total_stock_portfolio_value $  43324.50"
      ]
     },
     "execution_count": 25,
     "metadata": {},
     "output_type": "execute_result"
    }
   ],
   "source": [
    "# Set monthly household income (in the USD)\n",
    "monthly_income = 12000\n",
    "\n",
    "# Create savings DataFrame\n",
    "investments_data = {\"AMOUNT\": [total_value_dc_holdings, total_portfolio_value]}\n",
    "investments = [\"total_value_dc_holdings $\", \"total_stock_portfolio_value $\"]\n",
    "\n",
    "# Create Savings DataFrame with `investments` as index\n",
    "df_savings = pd.DataFrame(investments_data, index=investments)\n",
    "\n",
    "# Display Savings data\n",
    "df_savings"
   ]
  },
  {
   "cell_type": "code",
   "execution_count": 26,
   "id": "931f4dda-211d-431f-8aa6-106b90486b6b",
   "metadata": {},
   "outputs": [
    {
     "data": {
      "text/plain": [
       "<AxesSubplot:title={'center':'Savings Portfolio Composition'}, ylabel='AMOUNT'>"
      ]
     },
     "execution_count": 26,
     "metadata": {},
     "output_type": "execute_result"
    },
    {
     "data": {
      "image/png": "[encoded data removed]",
      "text/plain": [
       "<Figure size 432x288 with 1 Axes>"
      ]
     },
     "metadata": {},
     "output_type": "display_data"
    }
   ],
   "source": [
    "# Plot savings pie chart\n",
    "df_savings.plot.pie(y=\"AMOUNT\", title=\"Savings Portfolio Composition\")"
   ]
  },
  {
   "cell_type": "code",
   "execution_count": 27,
   "id": "c513a4b2-9de7-40b0-9d13-d4af85a0582d",
   "metadata": {},
   "outputs": [],
   "source": [
    "#Establishing an Emergency Fund"
   ]
  },
  {
   "cell_type": "code",
   "execution_count": 28,
   "id": "39a69fe5",
   "metadata": {},
   "outputs": [
    {
     "data": {
      "text/plain": [
       "36000"
      ]
     },
     "execution_count": 28,
     "metadata": {},
     "output_type": "execute_result"
    }
   ],
   "source": [
    "# Set ideal emergency fund\n",
    "\n",
    "emergency_fund = 12000 * 3\n",
    "emergency_fund\n"
   ]
  },
  {
   "cell_type": "code",
   "execution_count": 29,
   "id": "5c13de19-baaa-4118-acc3-b8aedfb34174",
   "metadata": {},
   "outputs": [
    {
     "data": {
      "text/plain": [
       "129252.32"
      ]
     },
     "execution_count": 29,
     "metadata": {},
     "output_type": "execute_result"
    }
   ],
   "source": [
    "# Calculate total amount of savings (Combined Total of DC and stock holdings)\n",
    "\n",
    "Total_savings = total_value_dc_holdings + total_portfolio_value\n",
    "Total_savings\n"
   ]
  },
  {
   "cell_type": "code",
   "execution_count": 30,
   "id": "ac10c118-1bdd-4376-b323-2274e93b190d",
   "metadata": {},
   "outputs": [],
   "source": [
    "# Validate saving health\n",
    "# Savings Health is A OKAY.  Current investments are suffcient to cover over 9 months of living expenses."
   ]
  },
  {
   "cell_type": "code",
   "execution_count": 31,
   "id": "c12e28c5",
   "metadata": {},
   "outputs": [],
   "source": [
    "#Part 2 - Retirement Planning"
   ]
  },
  {
   "cell_type": "code",
   "execution_count": 32,
   "id": "30b4c017-67f9-40af-92c0-4749ce28ce00",
   "metadata": {},
   "outputs": [],
   "source": [
    " # Import libraries and dependencies\n",
    "import os\n",
    "import pandas as pd\n",
    "import alpaca_trade_api as tradeapi\n",
    "from MCForecastTools import MCSimulation"
   ]
  },
  {
   "cell_type": "code",
   "execution_count": 33,
   "id": "ab69e753-c1cd-41f5-9450-6b98f29a641d",
   "metadata": {},
   "outputs": [
    {
     "data": {
      "text/plain": [
       "True"
      ]
     },
     "execution_count": 33,
     "metadata": {},
     "output_type": "execute_result"
    }
   ],
   "source": [
    "# Load .env enviroment variables\n",
    "from dotenv import load_dotenv\n",
    "load_dotenv()"
   ]
  },
  {
   "cell_type": "code",
   "execution_count": 34,
   "id": "490cb805-bb5a-4b61-a6b9-f7fb96cf5cee",
   "metadata": {},
   "outputs": [],
   "source": [
    "# Monte Carlo Simulation\n"
   ]
  },
  {
   "cell_type": "code",
   "execution_count": 35,
   "id": "035130e0-1302-4630-82ec-37a57c8a44a1",
   "metadata": {},
   "outputs": [
    {
     "name": "stdout",
     "output_type": "stream",
     "text": [
      "Alpaca Key type: <class 'str'>\n",
      "Alpaca Secret Key type: <class 'str'>\n"
     ]
    }
   ],
   "source": [
    " # Set Alpaca API key and secret\n",
    "alpaca_akey = os.getenv(\"alpaca_akey\")\n",
    "alpaca_skey = os.getenv(\"alpaca_skey\")\n",
    "\n",
    "\n",
    "# Verify that Alpaca key and secret were correctly loaded\n",
    "print(f\"Alpaca Key type: {type(alpaca_akey)}\")\n",
    "print(f\"Alpaca Secret Key type: {type(alpaca_skey)}\")\n",
    "\n",
    "# Create the Alpaca API object\n",
    "\n",
    "alpaca = tradeapi.REST(\n",
    "    alpaca_akey,\n",
    "    alpaca_skey,\n",
    "    api_version=\"v2\")"
   ]
  },
  {
   "cell_type": "code",
   "execution_count": 37,
   "id": "88a2af27-1e77-4fc9-a1ab-57eb3a9dbe1a",
   "metadata": {},
   "outputs": [
    {
     "data": {
      "text/html": [
       "<div>\n",
       "<style scoped>\n",
       "    .dataframe tbody tr th:only-of-type {\n",
       "        vertical-align: middle;\n",
       "    }\n",
       "\n",
       "    .dataframe tbody tr th {\n",
       "        vertical-align: top;\n",
       "    }\n",
       "\n",
       "    .dataframe thead th {\n",
       "        text-align: right;\n",
       "    }\n",
       "</style>\n",
       "<table border=\"1\" class=\"dataframe\">\n",
       "  <thead>\n",
       "    <tr style=\"text-align: right;\">\n",
       "      <th></th>\n",
       "      <th>open</th>\n",
       "      <th>high</th>\n",
       "      <th>low</th>\n",
       "      <th>close</th>\n",
       "      <th>volume</th>\n",
       "      <th>trade_count</th>\n",
       "      <th>vwap</th>\n",
       "      <th>symbol</th>\n",
       "    </tr>\n",
       "    <tr>\n",
       "      <th>timestamp</th>\n",
       "      <th></th>\n",
       "      <th></th>\n",
       "      <th></th>\n",
       "      <th></th>\n",
       "      <th></th>\n",
       "      <th></th>\n",
       "      <th></th>\n",
       "      <th></th>\n",
       "    </tr>\n",
       "  </thead>\n",
       "  <tbody>\n",
       "    <tr>\n",
       "      <th>2022-03-28 04:00:00+00:00</th>\n",
       "      <td>452.05</td>\n",
       "      <td>455.910</td>\n",
       "      <td>450.060</td>\n",
       "      <td>455.84</td>\n",
       "      <td>68744767</td>\n",
       "      <td>624225</td>\n",
       "      <td>453.296491</td>\n",
       "      <td>SPY</td>\n",
       "    </tr>\n",
       "    <tr>\n",
       "      <th>2022-03-29 04:00:00+00:00</th>\n",
       "      <td>460.07</td>\n",
       "      <td>462.070</td>\n",
       "      <td>457.180</td>\n",
       "      <td>461.53</td>\n",
       "      <td>86682895</td>\n",
       "      <td>738526</td>\n",
       "      <td>459.632992</td>\n",
       "      <td>SPY</td>\n",
       "    </tr>\n",
       "    <tr>\n",
       "      <th>2022-03-30 04:00:00+00:00</th>\n",
       "      <td>460.29</td>\n",
       "      <td>461.195</td>\n",
       "      <td>456.465</td>\n",
       "      <td>458.79</td>\n",
       "      <td>79668682</td>\n",
       "      <td>659199</td>\n",
       "      <td>459.158702</td>\n",
       "      <td>SPY</td>\n",
       "    </tr>\n",
       "    <tr>\n",
       "      <th>2022-03-31 04:00:00+00:00</th>\n",
       "      <td>457.92</td>\n",
       "      <td>458.760</td>\n",
       "      <td>451.160</td>\n",
       "      <td>452.11</td>\n",
       "      <td>118607132</td>\n",
       "      <td>751169</td>\n",
       "      <td>455.444107</td>\n",
       "      <td>SPY</td>\n",
       "    </tr>\n",
       "    <tr>\n",
       "      <th>2022-04-01 04:00:00+00:00</th>\n",
       "      <td>453.30</td>\n",
       "      <td>453.460</td>\n",
       "      <td>449.140</td>\n",
       "      <td>452.92</td>\n",
       "      <td>88676014</td>\n",
       "      <td>624745</td>\n",
       "      <td>451.850848</td>\n",
       "      <td>SPY</td>\n",
       "    </tr>\n",
       "  </tbody>\n",
       "</table>\n",
       "</div>"
      ],
      "text/plain": [
       "                             open     high      low   close     volume  \\\n",
       "timestamp                                                                \n",
       "2022-03-28 04:00:00+00:00  452.05  455.910  450.060  455.84   68744767   \n",
       "2022-03-29 04:00:00+00:00  460.07  462.070  457.180  461.53   86682895   \n",
       "2022-03-30 04:00:00+00:00  460.29  461.195  456.465  458.79   79668682   \n",
       "2022-03-31 04:00:00+00:00  457.92  458.760  451.160  452.11  118607132   \n",
       "2022-04-01 04:00:00+00:00  453.30  453.460  449.140  452.92   88676014   \n",
       "\n",
       "                           trade_count        vwap symbol  \n",
       "timestamp                                                  \n",
       "2022-03-28 04:00:00+00:00       624225  453.296491    SPY  \n",
       "2022-03-29 04:00:00+00:00       738526  459.632992    SPY  \n",
       "2022-03-30 04:00:00+00:00       659199  459.158702    SPY  \n",
       "2022-03-31 04:00:00+00:00       751169  455.444107    SPY  \n",
       "2022-04-01 04:00:00+00:00       624745  451.850848    SPY  "
      ]
     },
     "execution_count": 37,
     "metadata": {},
     "output_type": "execute_result"
    }
   ],
   "source": [
    " # Set timeframe to \"1Day\"\n",
    "timeframe = \"1Day\"\n",
    "\n",
    "# Set start and end datetimes between now and 3 years ago.\n",
    "start_date = pd.Timestamp(\"2017-04-01\", tz=\"America/New_York\").isoformat()\n",
    "end_date = pd.Timestamp(\"2022-04-01\", tz=\"America/New_York\").isoformat()\n",
    "\n",
    "# Set the ticker information\n",
    "tickers = [\"AGG\",\"SPY\"]\n",
    "\n",
    "# Get 5 year's worth of historical price data for AGG & SPY\n",
    "df_ticker = alpaca.get_bars(\n",
    "    tickers,\n",
    "    timeframe,\n",
    "    start=start_date,\n",
    "    end=end_date\n",
    ").df\n",
    "\n",
    "# Display sample data\n",
    "df_ticker.tail()"
   ]
  },
  {
   "cell_type": "code",
   "execution_count": 38,
   "id": "8d052b01-62f9-4807-862c-6292ed36ffbf",
   "metadata": {},
   "outputs": [
    {
     "data": {
      "text/html": [
       "<div>\n",
       "<style scoped>\n",
       "    .dataframe tbody tr th:only-of-type {\n",
       "        vertical-align: middle;\n",
       "    }\n",
       "\n",
       "    .dataframe tbody tr th {\n",
       "        vertical-align: top;\n",
       "    }\n",
       "\n",
       "    .dataframe thead tr th {\n",
       "        text-align: left;\n",
       "    }\n",
       "\n",
       "    .dataframe thead tr:last-of-type th {\n",
       "        text-align: right;\n",
       "    }\n",
       "</style>\n",
       "<table border=\"1\" class=\"dataframe\">\n",
       "  <thead>\n",
       "    <tr>\n",
       "      <th></th>\n",
       "      <th colspan=\"7\" halign=\"left\">AGG</th>\n",
       "      <th colspan=\"7\" halign=\"left\">SPY</th>\n",
       "    </tr>\n",
       "    <tr>\n",
       "      <th></th>\n",
       "      <th>open</th>\n",
       "      <th>high</th>\n",
       "      <th>low</th>\n",
       "      <th>close</th>\n",
       "      <th>volume</th>\n",
       "      <th>trade_count</th>\n",
       "      <th>vwap</th>\n",
       "      <th>open</th>\n",
       "      <th>high</th>\n",
       "      <th>low</th>\n",
       "      <th>close</th>\n",
       "      <th>volume</th>\n",
       "      <th>trade_count</th>\n",
       "      <th>vwap</th>\n",
       "    </tr>\n",
       "    <tr>\n",
       "      <th>timestamp</th>\n",
       "      <th></th>\n",
       "      <th></th>\n",
       "      <th></th>\n",
       "      <th></th>\n",
       "      <th></th>\n",
       "      <th></th>\n",
       "      <th></th>\n",
       "      <th></th>\n",
       "      <th></th>\n",
       "      <th></th>\n",
       "      <th></th>\n",
       "      <th></th>\n",
       "      <th></th>\n",
       "      <th></th>\n",
       "    </tr>\n",
       "  </thead>\n",
       "  <tbody>\n",
       "    <tr>\n",
       "      <th>2017-04-03 04:00:00+00:00</th>\n",
       "      <td>108.31</td>\n",
       "      <td>108.68</td>\n",
       "      <td>108.300</td>\n",
       "      <td>108.67</td>\n",
       "      <td>5198006</td>\n",
       "      <td>15992</td>\n",
       "      <td>108.605513</td>\n",
       "      <td>235.79</td>\n",
       "      <td>236.03</td>\n",
       "      <td>233.910</td>\n",
       "      <td>235.33</td>\n",
       "      <td>85546486</td>\n",
       "      <td>278486</td>\n",
       "      <td>235.194832</td>\n",
       "    </tr>\n",
       "    <tr>\n",
       "      <th>2017-04-04 04:00:00+00:00</th>\n",
       "      <td>108.61</td>\n",
       "      <td>108.65</td>\n",
       "      <td>108.520</td>\n",
       "      <td>108.57</td>\n",
       "      <td>1627492</td>\n",
       "      <td>8325</td>\n",
       "      <td>108.591265</td>\n",
       "      <td>235.00</td>\n",
       "      <td>235.58</td>\n",
       "      <td>234.555</td>\n",
       "      <td>235.48</td>\n",
       "      <td>56466195</td>\n",
       "      <td>192579</td>\n",
       "      <td>235.237449</td>\n",
       "    </tr>\n",
       "    <tr>\n",
       "      <th>2017-04-05 04:00:00+00:00</th>\n",
       "      <td>108.48</td>\n",
       "      <td>108.74</td>\n",
       "      <td>108.453</td>\n",
       "      <td>108.69</td>\n",
       "      <td>2304074</td>\n",
       "      <td>11167</td>\n",
       "      <td>108.599103</td>\n",
       "      <td>236.26</td>\n",
       "      <td>237.39</td>\n",
       "      <td>234.540</td>\n",
       "      <td>234.78</td>\n",
       "      <td>108800604</td>\n",
       "      <td>363080</td>\n",
       "      <td>235.933657</td>\n",
       "    </tr>\n",
       "    <tr>\n",
       "      <th>2017-04-06 04:00:00+00:00</th>\n",
       "      <td>108.64</td>\n",
       "      <td>108.71</td>\n",
       "      <td>108.480</td>\n",
       "      <td>108.68</td>\n",
       "      <td>1725301</td>\n",
       "      <td>7746</td>\n",
       "      <td>108.588276</td>\n",
       "      <td>234.96</td>\n",
       "      <td>236.04</td>\n",
       "      <td>234.425</td>\n",
       "      <td>235.44</td>\n",
       "      <td>69135757</td>\n",
       "      <td>244996</td>\n",
       "      <td>235.287745</td>\n",
       "    </tr>\n",
       "    <tr>\n",
       "      <th>2017-04-07 04:00:00+00:00</th>\n",
       "      <td>108.80</td>\n",
       "      <td>108.89</td>\n",
       "      <td>108.420</td>\n",
       "      <td>108.44</td>\n",
       "      <td>1783599</td>\n",
       "      <td>8534</td>\n",
       "      <td>108.645684</td>\n",
       "      <td>235.18</td>\n",
       "      <td>236.00</td>\n",
       "      <td>234.640</td>\n",
       "      <td>235.20</td>\n",
       "      <td>74412311</td>\n",
       "      <td>235941</td>\n",
       "      <td>235.290964</td>\n",
       "    </tr>\n",
       "  </tbody>\n",
       "</table>\n",
       "</div>"
      ],
      "text/plain": [
       "                              AGG                                    \\\n",
       "                             open    high      low   close   volume   \n",
       "timestamp                                                             \n",
       "2017-04-03 04:00:00+00:00  108.31  108.68  108.300  108.67  5198006   \n",
       "2017-04-04 04:00:00+00:00  108.61  108.65  108.520  108.57  1627492   \n",
       "2017-04-05 04:00:00+00:00  108.48  108.74  108.453  108.69  2304074   \n",
       "2017-04-06 04:00:00+00:00  108.64  108.71  108.480  108.68  1725301   \n",
       "2017-04-07 04:00:00+00:00  108.80  108.89  108.420  108.44  1783599   \n",
       "\n",
       "                                                      SPY                   \\\n",
       "                          trade_count        vwap    open    high      low   \n",
       "timestamp                                                                    \n",
       "2017-04-03 04:00:00+00:00       15992  108.605513  235.79  236.03  233.910   \n",
       "2017-04-04 04:00:00+00:00        8325  108.591265  235.00  235.58  234.555   \n",
       "2017-04-05 04:00:00+00:00       11167  108.599103  236.26  237.39  234.540   \n",
       "2017-04-06 04:00:00+00:00        7746  108.588276  234.96  236.04  234.425   \n",
       "2017-04-07 04:00:00+00:00        8534  108.645684  235.18  236.00  234.640   \n",
       "\n",
       "                                                                      \n",
       "                            close     volume trade_count        vwap  \n",
       "timestamp                                                             \n",
       "2017-04-03 04:00:00+00:00  235.33   85546486      278486  235.194832  \n",
       "2017-04-04 04:00:00+00:00  235.48   56466195      192579  235.237449  \n",
       "2017-04-05 04:00:00+00:00  234.78  108800604      363080  235.933657  \n",
       "2017-04-06 04:00:00+00:00  235.44   69135757      244996  235.287745  \n",
       "2017-04-07 04:00:00+00:00  235.20   74412311      235941  235.290964  "
      ]
     },
     "execution_count": 38,
     "metadata": {},
     "output_type": "execute_result"
    }
   ],
   "source": [
    "# Reorganize the DataFrame\n",
    " #Concat the data\n",
    "\n",
    "# Separate ticker data\n",
    "AGG = df_ticker[df_ticker['symbol']=='AGG'].drop('symbol', axis=1)\n",
    "SPY = df_ticker[df_ticker['symbol']=='SPY'].drop('symbol', axis=1)\n",
    "\n",
    "# Concatenate the ticker DataFrames\n",
    "df_ticker = pd.concat([AGG, SPY], axis=1, keys=[\"AGG\", \"SPY\"])\n",
    "\n",
    "# Display sample data\n",
    "df_ticker.head()"
   ]
  },
  {
   "cell_type": "code",
   "execution_count": 40,
   "id": "6269b9ca-ea99-4dc2-8a80-a2df9cb55abd",
   "metadata": {},
   "outputs": [],
   "source": [
    " # Configuring a Monte Carlo simulation to forecast five years cumulative returns\n",
    "MC_Thirty_Year = MCSimulation(\n",
    "    portfolio_data = df_ticker,\n",
    "    weights = [.60,.40],\n",
    "    num_simulation = 500,\n",
    "    num_trading_days = 252*30\n",
    ")"
   ]
  },
  {
   "cell_type": "code",
   "execution_count": 41,
   "id": "d5a8adc6-8a46-48f5-9cfd-28f32318e549",
   "metadata": {},
   "outputs": [
    {
     "data": {
      "text/html": [
       "<div>\n",
       "<style scoped>\n",
       "    .dataframe tbody tr th:only-of-type {\n",
       "        vertical-align: middle;\n",
       "    }\n",
       "\n",
       "    .dataframe tbody tr th {\n",
       "        vertical-align: top;\n",
       "    }\n",
       "\n",
       "    .dataframe thead tr th {\n",
       "        text-align: left;\n",
       "    }\n",
       "\n",
       "    .dataframe thead tr:last-of-type th {\n",
       "        text-align: right;\n",
       "    }\n",
       "</style>\n",
       "<table border=\"1\" class=\"dataframe\">\n",
       "  <thead>\n",
       "    <tr>\n",
       "      <th></th>\n",
       "      <th colspan=\"8\" halign=\"left\">AGG</th>\n",
       "      <th colspan=\"8\" halign=\"left\">SPY</th>\n",
       "    </tr>\n",
       "    <tr>\n",
       "      <th></th>\n",
       "      <th>open</th>\n",
       "      <th>high</th>\n",
       "      <th>low</th>\n",
       "      <th>close</th>\n",
       "      <th>volume</th>\n",
       "      <th>trade_count</th>\n",
       "      <th>vwap</th>\n",
       "      <th>daily_return</th>\n",
       "      <th>open</th>\n",
       "      <th>high</th>\n",
       "      <th>low</th>\n",
       "      <th>close</th>\n",
       "      <th>volume</th>\n",
       "      <th>trade_count</th>\n",
       "      <th>vwap</th>\n",
       "      <th>daily_return</th>\n",
       "    </tr>\n",
       "    <tr>\n",
       "      <th>timestamp</th>\n",
       "      <th></th>\n",
       "      <th></th>\n",
       "      <th></th>\n",
       "      <th></th>\n",
       "      <th></th>\n",
       "      <th></th>\n",
       "      <th></th>\n",
       "      <th></th>\n",
       "      <th></th>\n",
       "      <th></th>\n",
       "      <th></th>\n",
       "      <th></th>\n",
       "      <th></th>\n",
       "      <th></th>\n",
       "      <th></th>\n",
       "      <th></th>\n",
       "    </tr>\n",
       "  </thead>\n",
       "  <tbody>\n",
       "    <tr>\n",
       "      <th>2017-04-03 04:00:00+00:00</th>\n",
       "      <td>108.31</td>\n",
       "      <td>108.68</td>\n",
       "      <td>108.300</td>\n",
       "      <td>108.67</td>\n",
       "      <td>5198006</td>\n",
       "      <td>15992</td>\n",
       "      <td>108.605513</td>\n",
       "      <td>NaN</td>\n",
       "      <td>235.79</td>\n",
       "      <td>236.03</td>\n",
       "      <td>233.910</td>\n",
       "      <td>235.33</td>\n",
       "      <td>85546486</td>\n",
       "      <td>278486</td>\n",
       "      <td>235.194832</td>\n",
       "      <td>NaN</td>\n",
       "    </tr>\n",
       "    <tr>\n",
       "      <th>2017-04-04 04:00:00+00:00</th>\n",
       "      <td>108.61</td>\n",
       "      <td>108.65</td>\n",
       "      <td>108.520</td>\n",
       "      <td>108.57</td>\n",
       "      <td>1627492</td>\n",
       "      <td>8325</td>\n",
       "      <td>108.591265</td>\n",
       "      <td>-0.000920</td>\n",
       "      <td>235.00</td>\n",
       "      <td>235.58</td>\n",
       "      <td>234.555</td>\n",
       "      <td>235.48</td>\n",
       "      <td>56466195</td>\n",
       "      <td>192579</td>\n",
       "      <td>235.237449</td>\n",
       "      <td>0.000637</td>\n",
       "    </tr>\n",
       "    <tr>\n",
       "      <th>2017-04-05 04:00:00+00:00</th>\n",
       "      <td>108.48</td>\n",
       "      <td>108.74</td>\n",
       "      <td>108.453</td>\n",
       "      <td>108.69</td>\n",
       "      <td>2304074</td>\n",
       "      <td>11167</td>\n",
       "      <td>108.599103</td>\n",
       "      <td>0.001105</td>\n",
       "      <td>236.26</td>\n",
       "      <td>237.39</td>\n",
       "      <td>234.540</td>\n",
       "      <td>234.78</td>\n",
       "      <td>108800604</td>\n",
       "      <td>363080</td>\n",
       "      <td>235.933657</td>\n",
       "      <td>-0.002973</td>\n",
       "    </tr>\n",
       "    <tr>\n",
       "      <th>2017-04-06 04:00:00+00:00</th>\n",
       "      <td>108.64</td>\n",
       "      <td>108.71</td>\n",
       "      <td>108.480</td>\n",
       "      <td>108.68</td>\n",
       "      <td>1725301</td>\n",
       "      <td>7746</td>\n",
       "      <td>108.588276</td>\n",
       "      <td>-0.000092</td>\n",
       "      <td>234.96</td>\n",
       "      <td>236.04</td>\n",
       "      <td>234.425</td>\n",
       "      <td>235.44</td>\n",
       "      <td>69135757</td>\n",
       "      <td>244996</td>\n",
       "      <td>235.287745</td>\n",
       "      <td>0.002811</td>\n",
       "    </tr>\n",
       "    <tr>\n",
       "      <th>2017-04-07 04:00:00+00:00</th>\n",
       "      <td>108.80</td>\n",
       "      <td>108.89</td>\n",
       "      <td>108.420</td>\n",
       "      <td>108.44</td>\n",
       "      <td>1783599</td>\n",
       "      <td>8534</td>\n",
       "      <td>108.645684</td>\n",
       "      <td>-0.002208</td>\n",
       "      <td>235.18</td>\n",
       "      <td>236.00</td>\n",
       "      <td>234.640</td>\n",
       "      <td>235.20</td>\n",
       "      <td>74412311</td>\n",
       "      <td>235941</td>\n",
       "      <td>235.290964</td>\n",
       "      <td>-0.001019</td>\n",
       "    </tr>\n",
       "  </tbody>\n",
       "</table>\n",
       "</div>"
      ],
      "text/plain": [
       "                              AGG                                    \\\n",
       "                             open    high      low   close   volume   \n",
       "timestamp                                                             \n",
       "2017-04-03 04:00:00+00:00  108.31  108.68  108.300  108.67  5198006   \n",
       "2017-04-04 04:00:00+00:00  108.61  108.65  108.520  108.57  1627492   \n",
       "2017-04-05 04:00:00+00:00  108.48  108.74  108.453  108.69  2304074   \n",
       "2017-04-06 04:00:00+00:00  108.64  108.71  108.480  108.68  1725301   \n",
       "2017-04-07 04:00:00+00:00  108.80  108.89  108.420  108.44  1783599   \n",
       "\n",
       "                                                                   SPY  \\\n",
       "                          trade_count        vwap daily_return    open   \n",
       "timestamp                                                                \n",
       "2017-04-03 04:00:00+00:00       15992  108.605513          NaN  235.79   \n",
       "2017-04-04 04:00:00+00:00        8325  108.591265    -0.000920  235.00   \n",
       "2017-04-05 04:00:00+00:00       11167  108.599103     0.001105  236.26   \n",
       "2017-04-06 04:00:00+00:00        7746  108.588276    -0.000092  234.96   \n",
       "2017-04-07 04:00:00+00:00        8534  108.645684    -0.002208  235.18   \n",
       "\n",
       "                                                                           \\\n",
       "                             high      low   close     volume trade_count   \n",
       "timestamp                                                                   \n",
       "2017-04-03 04:00:00+00:00  236.03  233.910  235.33   85546486      278486   \n",
       "2017-04-04 04:00:00+00:00  235.58  234.555  235.48   56466195      192579   \n",
       "2017-04-05 04:00:00+00:00  237.39  234.540  234.78  108800604      363080   \n",
       "2017-04-06 04:00:00+00:00  236.04  234.425  235.44   69135757      244996   \n",
       "2017-04-07 04:00:00+00:00  236.00  234.640  235.20   74412311      235941   \n",
       "\n",
       "                                                    \n",
       "                                 vwap daily_return  \n",
       "timestamp                                           \n",
       "2017-04-03 04:00:00+00:00  235.194832          NaN  \n",
       "2017-04-04 04:00:00+00:00  235.237449     0.000637  \n",
       "2017-04-05 04:00:00+00:00  235.933657    -0.002973  \n",
       "2017-04-06 04:00:00+00:00  235.287745     0.002811  \n",
       "2017-04-07 04:00:00+00:00  235.290964    -0.001019  "
      ]
     },
     "execution_count": 41,
     "metadata": {},
     "output_type": "execute_result"
    }
   ],
   "source": [
    "# Print the simulation input data\n",
    "MC_Thirty_Year.portfolio_data.head()"
   ]
  },
  {
   "cell_type": "code",
   "execution_count": 42,
   "id": "b764cdb2-c484-414d-9201-483a8eb1dd55",
   "metadata": {},
   "outputs": [
    {
     "name": "stdout",
     "output_type": "stream",
     "text": [
      "Running Monte Carlo simulation number 0.\n",
      "Running Monte Carlo simulation number 10.\n",
      "Running Monte Carlo simulation number 20.\n",
      "Running Monte Carlo simulation number 30.\n",
      "Running Monte Carlo simulation number 40.\n",
      "Running Monte Carlo simulation number 50.\n",
      "Running Monte Carlo simulation number 60.\n",
      "Running Monte Carlo simulation number 70.\n",
      "Running Monte Carlo simulation number 80.\n",
      "Running Monte Carlo simulation number 90.\n",
      "Running Monte Carlo simulation number 100.\n"
     ]
    },
    {
     "name": "stderr",
     "output_type": "stream",
     "text": [
      "/Users/tylerscott/April 5 2022 API/MCForecastTools.py:117: PerformanceWarning: DataFrame is highly fragmented.  This is usually the result of calling `frame.insert` many times, which has poor performance.  Consider joining all columns at once using pd.concat(axis=1) instead.  To get a de-fragmented frame, use `newframe = frame.copy()`\n",
      "  portfolio_cumulative_returns[n] = (1 + sim_df.fillna(0)).cumprod()\n"
     ]
    },
    {
     "name": "stdout",
     "output_type": "stream",
     "text": [
      "Running Monte Carlo simulation number 110.\n",
      "Running Monte Carlo simulation number 120.\n",
      "Running Monte Carlo simulation number 130.\n",
      "Running Monte Carlo simulation number 140.\n",
      "Running Monte Carlo simulation number 150.\n",
      "Running Monte Carlo simulation number 160.\n",
      "Running Monte Carlo simulation number 170.\n",
      "Running Monte Carlo simulation number 180.\n",
      "Running Monte Carlo simulation number 190.\n",
      "Running Monte Carlo simulation number 200.\n",
      "Running Monte Carlo simulation number 210.\n",
      "Running Monte Carlo simulation number 220.\n",
      "Running Monte Carlo simulation number 230.\n",
      "Running Monte Carlo simulation number 240.\n",
      "Running Monte Carlo simulation number 250.\n",
      "Running Monte Carlo simulation number 260.\n",
      "Running Monte Carlo simulation number 270.\n",
      "Running Monte Carlo simulation number 280.\n",
      "Running Monte Carlo simulation number 290.\n",
      "Running Monte Carlo simulation number 300.\n",
      "Running Monte Carlo simulation number 310.\n",
      "Running Monte Carlo simulation number 320.\n",
      "Running Monte Carlo simulation number 330.\n",
      "Running Monte Carlo simulation number 340.\n",
      "Running Monte Carlo simulation number 350.\n",
      "Running Monte Carlo simulation number 360.\n",
      "Running Monte Carlo simulation number 370.\n",
      "Running Monte Carlo simulation number 380.\n",
      "Running Monte Carlo simulation number 390.\n",
      "Running Monte Carlo simulation number 400.\n",
      "Running Monte Carlo simulation number 410.\n",
      "Running Monte Carlo simulation number 420.\n",
      "Running Monte Carlo simulation number 430.\n",
      "Running Monte Carlo simulation number 440.\n",
      "Running Monte Carlo simulation number 450.\n",
      "Running Monte Carlo simulation number 460.\n",
      "Running Monte Carlo simulation number 470.\n",
      "Running Monte Carlo simulation number 480.\n",
      "Running Monte Carlo simulation number 490.\n"
     ]
    },
    {
     "data": {
      "text/html": [
       "<div>\n",
       "<style scoped>\n",
       "    .dataframe tbody tr th:only-of-type {\n",
       "        vertical-align: middle;\n",
       "    }\n",
       "\n",
       "    .dataframe tbody tr th {\n",
       "        vertical-align: top;\n",
       "    }\n",
       "\n",
       "    .dataframe thead th {\n",
       "        text-align: right;\n",
       "    }\n",
       "</style>\n",
       "<table border=\"1\" class=\"dataframe\">\n",
       "  <thead>\n",
       "    <tr style=\"text-align: right;\">\n",
       "      <th></th>\n",
       "      <th>0</th>\n",
       "      <th>1</th>\n",
       "      <th>2</th>\n",
       "      <th>3</th>\n",
       "      <th>4</th>\n",
       "      <th>5</th>\n",
       "      <th>6</th>\n",
       "      <th>7</th>\n",
       "      <th>8</th>\n",
       "      <th>9</th>\n",
       "      <th>...</th>\n",
       "      <th>490</th>\n",
       "      <th>491</th>\n",
       "      <th>492</th>\n",
       "      <th>493</th>\n",
       "      <th>494</th>\n",
       "      <th>495</th>\n",
       "      <th>496</th>\n",
       "      <th>497</th>\n",
       "      <th>498</th>\n",
       "      <th>499</th>\n",
       "    </tr>\n",
       "  </thead>\n",
       "  <tbody>\n",
       "    <tr>\n",
       "      <th>0</th>\n",
       "      <td>1.000000</td>\n",
       "      <td>1.000000</td>\n",
       "      <td>1.000000</td>\n",
       "      <td>1.000000</td>\n",
       "      <td>1.000000</td>\n",
       "      <td>1.000000</td>\n",
       "      <td>1.000000</td>\n",
       "      <td>1.000000</td>\n",
       "      <td>1.000000</td>\n",
       "      <td>1.000000</td>\n",
       "      <td>...</td>\n",
       "      <td>1.000000</td>\n",
       "      <td>1.000000</td>\n",
       "      <td>1.000000</td>\n",
       "      <td>1.000000</td>\n",
       "      <td>1.000000</td>\n",
       "      <td>1.000000</td>\n",
       "      <td>1.000000</td>\n",
       "      <td>1.000000</td>\n",
       "      <td>1.000000</td>\n",
       "      <td>1.000000</td>\n",
       "    </tr>\n",
       "    <tr>\n",
       "      <th>1</th>\n",
       "      <td>1.005505</td>\n",
       "      <td>1.005005</td>\n",
       "      <td>1.005377</td>\n",
       "      <td>0.992169</td>\n",
       "      <td>1.000517</td>\n",
       "      <td>1.008622</td>\n",
       "      <td>1.003229</td>\n",
       "      <td>1.005148</td>\n",
       "      <td>0.997665</td>\n",
       "      <td>1.007205</td>\n",
       "      <td>...</td>\n",
       "      <td>0.991641</td>\n",
       "      <td>1.006784</td>\n",
       "      <td>1.004924</td>\n",
       "      <td>1.007869</td>\n",
       "      <td>0.991954</td>\n",
       "      <td>1.002070</td>\n",
       "      <td>0.997474</td>\n",
       "      <td>1.004707</td>\n",
       "      <td>1.001014</td>\n",
       "      <td>1.005268</td>\n",
       "    </tr>\n",
       "    <tr>\n",
       "      <th>2</th>\n",
       "      <td>1.008025</td>\n",
       "      <td>1.010788</td>\n",
       "      <td>0.996282</td>\n",
       "      <td>0.993707</td>\n",
       "      <td>1.008378</td>\n",
       "      <td>1.009454</td>\n",
       "      <td>1.006522</td>\n",
       "      <td>1.000448</td>\n",
       "      <td>0.993179</td>\n",
       "      <td>1.011133</td>\n",
       "      <td>...</td>\n",
       "      <td>0.996094</td>\n",
       "      <td>1.004774</td>\n",
       "      <td>1.002807</td>\n",
       "      <td>1.010365</td>\n",
       "      <td>0.998109</td>\n",
       "      <td>0.995770</td>\n",
       "      <td>1.011314</td>\n",
       "      <td>1.003280</td>\n",
       "      <td>0.999739</td>\n",
       "      <td>1.002082</td>\n",
       "    </tr>\n",
       "    <tr>\n",
       "      <th>3</th>\n",
       "      <td>0.998404</td>\n",
       "      <td>1.007558</td>\n",
       "      <td>0.998278</td>\n",
       "      <td>0.990857</td>\n",
       "      <td>1.016484</td>\n",
       "      <td>1.004867</td>\n",
       "      <td>1.015225</td>\n",
       "      <td>1.002626</td>\n",
       "      <td>0.988446</td>\n",
       "      <td>1.001502</td>\n",
       "      <td>...</td>\n",
       "      <td>0.997347</td>\n",
       "      <td>1.004058</td>\n",
       "      <td>1.008442</td>\n",
       "      <td>1.009201</td>\n",
       "      <td>0.995434</td>\n",
       "      <td>0.994252</td>\n",
       "      <td>1.013928</td>\n",
       "      <td>1.019826</td>\n",
       "      <td>1.000515</td>\n",
       "      <td>0.995744</td>\n",
       "    </tr>\n",
       "    <tr>\n",
       "      <th>4</th>\n",
       "      <td>1.000839</td>\n",
       "      <td>1.006181</td>\n",
       "      <td>1.000396</td>\n",
       "      <td>0.989338</td>\n",
       "      <td>1.013996</td>\n",
       "      <td>1.003426</td>\n",
       "      <td>1.020236</td>\n",
       "      <td>0.991862</td>\n",
       "      <td>0.991279</td>\n",
       "      <td>1.002275</td>\n",
       "      <td>...</td>\n",
       "      <td>0.991030</td>\n",
       "      <td>1.002335</td>\n",
       "      <td>1.010830</td>\n",
       "      <td>1.013299</td>\n",
       "      <td>0.984884</td>\n",
       "      <td>0.990547</td>\n",
       "      <td>1.003716</td>\n",
       "      <td>1.019444</td>\n",
       "      <td>0.992546</td>\n",
       "      <td>0.988428</td>\n",
       "    </tr>\n",
       "    <tr>\n",
       "      <th>...</th>\n",
       "      <td>...</td>\n",
       "      <td>...</td>\n",
       "      <td>...</td>\n",
       "      <td>...</td>\n",
       "      <td>...</td>\n",
       "      <td>...</td>\n",
       "      <td>...</td>\n",
       "      <td>...</td>\n",
       "      <td>...</td>\n",
       "      <td>...</td>\n",
       "      <td>...</td>\n",
       "      <td>...</td>\n",
       "      <td>...</td>\n",
       "      <td>...</td>\n",
       "      <td>...</td>\n",
       "      <td>...</td>\n",
       "      <td>...</td>\n",
       "      <td>...</td>\n",
       "      <td>...</td>\n",
       "      <td>...</td>\n",
       "      <td>...</td>\n",
       "    </tr>\n",
       "    <tr>\n",
       "      <th>7556</th>\n",
       "      <td>2.812316</td>\n",
       "      <td>5.624033</td>\n",
       "      <td>7.284436</td>\n",
       "      <td>3.970444</td>\n",
       "      <td>5.161651</td>\n",
       "      <td>4.700747</td>\n",
       "      <td>11.483828</td>\n",
       "      <td>2.517355</td>\n",
       "      <td>5.538515</td>\n",
       "      <td>6.305320</td>\n",
       "      <td>...</td>\n",
       "      <td>3.086732</td>\n",
       "      <td>3.433084</td>\n",
       "      <td>7.440028</td>\n",
       "      <td>4.793148</td>\n",
       "      <td>6.257742</td>\n",
       "      <td>8.093898</td>\n",
       "      <td>9.101212</td>\n",
       "      <td>14.761690</td>\n",
       "      <td>3.685358</td>\n",
       "      <td>5.819630</td>\n",
       "    </tr>\n",
       "    <tr>\n",
       "      <th>7557</th>\n",
       "      <td>2.828516</td>\n",
       "      <td>5.606041</td>\n",
       "      <td>7.290385</td>\n",
       "      <td>3.969063</td>\n",
       "      <td>5.160009</td>\n",
       "      <td>4.679573</td>\n",
       "      <td>11.316885</td>\n",
       "      <td>2.516646</td>\n",
       "      <td>5.541580</td>\n",
       "      <td>6.303746</td>\n",
       "      <td>...</td>\n",
       "      <td>3.099881</td>\n",
       "      <td>3.463583</td>\n",
       "      <td>7.450863</td>\n",
       "      <td>4.789451</td>\n",
       "      <td>6.185012</td>\n",
       "      <td>8.107103</td>\n",
       "      <td>9.176997</td>\n",
       "      <td>14.768883</td>\n",
       "      <td>3.715991</td>\n",
       "      <td>5.835830</td>\n",
       "    </tr>\n",
       "    <tr>\n",
       "      <th>7558</th>\n",
       "      <td>2.814833</td>\n",
       "      <td>5.631067</td>\n",
       "      <td>7.307894</td>\n",
       "      <td>3.952136</td>\n",
       "      <td>5.143566</td>\n",
       "      <td>4.699710</td>\n",
       "      <td>11.383784</td>\n",
       "      <td>2.526448</td>\n",
       "      <td>5.533276</td>\n",
       "      <td>6.320585</td>\n",
       "      <td>...</td>\n",
       "      <td>3.090494</td>\n",
       "      <td>3.468552</td>\n",
       "      <td>7.473090</td>\n",
       "      <td>4.822309</td>\n",
       "      <td>6.212855</td>\n",
       "      <td>8.175469</td>\n",
       "      <td>9.218918</td>\n",
       "      <td>14.807310</td>\n",
       "      <td>3.698575</td>\n",
       "      <td>5.804145</td>\n",
       "    </tr>\n",
       "    <tr>\n",
       "      <th>7559</th>\n",
       "      <td>2.808229</td>\n",
       "      <td>5.635272</td>\n",
       "      <td>7.292148</td>\n",
       "      <td>3.925544</td>\n",
       "      <td>5.160615</td>\n",
       "      <td>4.698770</td>\n",
       "      <td>11.366049</td>\n",
       "      <td>2.512939</td>\n",
       "      <td>5.464837</td>\n",
       "      <td>6.334726</td>\n",
       "      <td>...</td>\n",
       "      <td>3.063574</td>\n",
       "      <td>3.463440</td>\n",
       "      <td>7.520300</td>\n",
       "      <td>4.814440</td>\n",
       "      <td>6.229380</td>\n",
       "      <td>8.157352</td>\n",
       "      <td>9.147599</td>\n",
       "      <td>14.932439</td>\n",
       "      <td>3.731642</td>\n",
       "      <td>5.813606</td>\n",
       "    </tr>\n",
       "    <tr>\n",
       "      <th>7560</th>\n",
       "      <td>2.809733</td>\n",
       "      <td>5.568316</td>\n",
       "      <td>7.355736</td>\n",
       "      <td>3.890900</td>\n",
       "      <td>5.132630</td>\n",
       "      <td>4.673584</td>\n",
       "      <td>11.367719</td>\n",
       "      <td>2.521706</td>\n",
       "      <td>5.473212</td>\n",
       "      <td>6.276313</td>\n",
       "      <td>...</td>\n",
       "      <td>3.077297</td>\n",
       "      <td>3.489408</td>\n",
       "      <td>7.500422</td>\n",
       "      <td>4.828999</td>\n",
       "      <td>6.210354</td>\n",
       "      <td>8.143201</td>\n",
       "      <td>9.170441</td>\n",
       "      <td>14.844633</td>\n",
       "      <td>3.732376</td>\n",
       "      <td>5.856221</td>\n",
       "    </tr>\n",
       "  </tbody>\n",
       "</table>\n",
       "<p>7561 rows × 500 columns</p>\n",
       "</div>"
      ],
      "text/plain": [
       "           0         1         2         3         4         5          6    \\\n",
       "0     1.000000  1.000000  1.000000  1.000000  1.000000  1.000000   1.000000   \n",
       "1     1.005505  1.005005  1.005377  0.992169  1.000517  1.008622   1.003229   \n",
       "2     1.008025  1.010788  0.996282  0.993707  1.008378  1.009454   1.006522   \n",
       "3     0.998404  1.007558  0.998278  0.990857  1.016484  1.004867   1.015225   \n",
       "4     1.000839  1.006181  1.000396  0.989338  1.013996  1.003426   1.020236   \n",
       "...        ...       ...       ...       ...       ...       ...        ...   \n",
       "7556  2.812316  5.624033  7.284436  3.970444  5.161651  4.700747  11.483828   \n",
       "7557  2.828516  5.606041  7.290385  3.969063  5.160009  4.679573  11.316885   \n",
       "7558  2.814833  5.631067  7.307894  3.952136  5.143566  4.699710  11.383784   \n",
       "7559  2.808229  5.635272  7.292148  3.925544  5.160615  4.698770  11.366049   \n",
       "7560  2.809733  5.568316  7.355736  3.890900  5.132630  4.673584  11.367719   \n",
       "\n",
       "           7         8         9    ...       490       491       492  \\\n",
       "0     1.000000  1.000000  1.000000  ...  1.000000  1.000000  1.000000   \n",
       "1     1.005148  0.997665  1.007205  ...  0.991641  1.006784  1.004924   \n",
       "2     1.000448  0.993179  1.011133  ...  0.996094  1.004774  1.002807   \n",
       "3     1.002626  0.988446  1.001502  ...  0.997347  1.004058  1.008442   \n",
       "4     0.991862  0.991279  1.002275  ...  0.991030  1.002335  1.010830   \n",
       "...        ...       ...       ...  ...       ...       ...       ...   \n",
       "7556  2.517355  5.538515  6.305320  ...  3.086732  3.433084  7.440028   \n",
       "7557  2.516646  5.541580  6.303746  ...  3.099881  3.463583  7.450863   \n",
       "7558  2.526448  5.533276  6.320585  ...  3.090494  3.468552  7.473090   \n",
       "7559  2.512939  5.464837  6.334726  ...  3.063574  3.463440  7.520300   \n",
       "7560  2.521706  5.473212  6.276313  ...  3.077297  3.489408  7.500422   \n",
       "\n",
       "           493       494       495       496        497       498       499  \n",
       "0     1.000000  1.000000  1.000000  1.000000   1.000000  1.000000  1.000000  \n",
       "1     1.007869  0.991954  1.002070  0.997474   1.004707  1.001014  1.005268  \n",
       "2     1.010365  0.998109  0.995770  1.011314   1.003280  0.999739  1.002082  \n",
       "3     1.009201  0.995434  0.994252  1.013928   1.019826  1.000515  0.995744  \n",
       "4     1.013299  0.984884  0.990547  1.003716   1.019444  0.992546  0.988428  \n",
       "...        ...       ...       ...       ...        ...       ...       ...  \n",
       "7556  4.793148  6.257742  8.093898  9.101212  14.761690  3.685358  5.819630  \n",
       "7557  4.789451  6.185012  8.107103  9.176997  14.768883  3.715991  5.835830  \n",
       "7558  4.822309  6.212855  8.175469  9.218918  14.807310  3.698575  5.804145  \n",
       "7559  4.814440  6.229380  8.157352  9.147599  14.932439  3.731642  5.813606  \n",
       "7560  4.828999  6.210354  8.143201  9.170441  14.844633  3.732376  5.856221  \n",
       "\n",
       "[7561 rows x 500 columns]"
      ]
     },
     "execution_count": 42,
     "metadata": {},
     "output_type": "execute_result"
    }
   ],
   "source": [
    " # Running a Monte Carlo simulation to forecast thirty years cumulative returns\n",
    "MC_Thirty_Year.calc_cumulative_return()"
   ]
  },
  {
   "cell_type": "code",
   "execution_count": 43,
   "id": "5ff0cb73-d45a-4eff-a810-dea3a1b039e2",
   "metadata": {},
   "outputs": [
    {
     "data": {
      "image/png": "[encoded data removed]",
      "text/plain": [
       "<Figure size 432x288 with 1 Axes>"
      ]
     },
     "metadata": {
      "needs_background": "light"
     },
     "output_type": "display_data"
    }
   ],
   "source": [
    "#Plot probability distribution and confidence intervals\n",
    "dist_plot = MC_Thirty_Year.plot_distribution()\n",
    "\n",
    "# Save the plot for future usage\n",
    "dist_plot.get_figure().savefig('MC_Thirty_Year_dist_plot.png',bbox_inches='tight')"
   ]
  },
  {
   "cell_type": "code",
   "execution_count": 44,
   "id": "c53e3629-a911-4dfc-97a0-ba6dd1322e77",
   "metadata": {},
   "outputs": [
    {
     "data": {
      "image/png": "[encoded data removed]",
      "text/plain": [
       "<Figure size 432x288 with 1 Axes>"
      ]
     },
     "metadata": {
      "needs_background": "light"
     },
     "output_type": "display_data"
    }
   ],
   "source": [
    " # Plot simulation outcomes\n",
    "line_plot = MC_Thirty_Year.plot_simulation()\n",
    "\n",
    "# Save the plot for future usage\n",
    "line_plot.get_figure().savefig(\"MC_Thirty_Year_sim_plot.png\", bbox_inches=\"tight\")"
   ]
  },
  {
   "cell_type": "code",
   "execution_count": 45,
   "id": "0d5d9b3c-6983-46ce-9989-132748f7128f",
   "metadata": {},
   "outputs": [],
   "source": [
    "# Retirement Analysis Section"
   ]
  },
  {
   "cell_type": "code",
   "execution_count": 46,
   "id": "decb65bf-1dfa-4cc3-8097-a285dc4bb11c",
   "metadata": {},
   "outputs": [
    {
     "name": "stdout",
     "output_type": "stream",
     "text": [
      "count           500.000000\n",
      "mean              5.834745\n",
      "std               2.721704\n",
      "min               1.367222\n",
      "25%               3.891040\n",
      "50%               5.350755\n",
      "75%               7.207380\n",
      "max              20.185768\n",
      "95% CI Lower      2.280074\n",
      "95% CI Upper     13.028384\n",
      "Name: 7560, dtype: float64\n"
     ]
    }
   ],
   "source": [
    "# Summary statistics from the Monte Carlo simulation results\n",
    "tbl = MC_Thirty_Year.summarize_cumulative_return()\n",
    "\n",
    "# Print summary statistics\n",
    "print(tbl)"
   ]
  },
  {
   "cell_type": "code",
   "execution_count": 52,
   "id": "f386cb50-8602-4acf-8b17-536b62b87ec5",
   "metadata": {},
   "outputs": [
    {
     "name": "stdout",
     "output_type": "stream",
     "text": [
      "There is a 95% chance that an initial investment of $20,000 in the portfolio over the next 30 years will end within in the range of $45601.47 and $260567.68\n"
     ]
    }
   ],
   "source": [
    "# Calculate the expected portfolio return at the 95% lower and upper confidence intervals based on a \n",
    "#$20,000 initial investment.\n",
    "\n",
    " # Use the lower and upper `95%` confidence intervals to calculate the range of the possible outcomes of our $10,000 investments in Coca-Cola and Microsoft stocks\n",
    "ci_lower = round(tbl[8]*20000,2)\n",
    "ci_upper = round(tbl[9]*20000,2)\n",
    "\n",
    "# Print results\n",
    "print(f\"There is a 95% chance that an initial investment of $20,000 in the portfolio\"\n",
    "      f\" over the next 30 years will end within in the range of\"\n",
    "      f\" ${ci_lower} and ${ci_upper}\")"
   ]
  },
  {
   "cell_type": "code",
   "execution_count": 53,
   "id": "50b4776d-c7a7-422f-9e2c-3c74de308ea7",
   "metadata": {},
   "outputs": [
    {
     "name": "stdout",
     "output_type": "stream",
     "text": [
      "There is a 95% chance that an initial investment of $30000.0 in the portfolio over the next 30 years will end within in the range of $45601.47 and $390851.52\n"
     ]
    }
   ],
   "source": [
    " # Set initial investment\n",
    "initial_investment = 20000 * 1.5\n",
    "\n",
    "# Use the lower and upper `95%` confidence intervals to calculate the range of the possible outcomes of our $30,000\n",
    "ci_upper = round(tbl[8]*30000,2)\n",
    "ci_upper = round(tbl[9]*30000,2)\n",
    "\n",
    "# Print results\n",
    "print(f\"There is a 95% chance that an initial investment of ${initial_investment} in the portfolio\"\n",
    "      f\" over the next 30 years will end within in the range of\"\n",
    "      f\" ${ci_lower} and ${ci_upper}\")"
   ]
  },
  {
   "cell_type": "code",
   "execution_count": 49,
   "id": "6f5705a7-1145-44c7-a742-35d5ba6d1e76",
   "metadata": {},
   "outputs": [],
   "source": [
    "#END of ANALYSIS"
   ]
  }
 ],
 "metadata": {
  "kernelspec": {
   "display_name": "Python 3 (ipykernel)",
   "language": "python",
   "name": "python3"
  },
  "language_info": {
   "codemirror_mode": {
    "name": "ipython",
    "version": 3
   },
   "file_extension": ".py",
   "mimetype": "text/x-python",
   "name": "python",
   "nbconvert_exporter": "python",
   "pygments_lexer": "ipython3",
   "version": "3.7.11"
  }
 },
 "nbformat": 4,
 "nbformat_minor": 5
}
